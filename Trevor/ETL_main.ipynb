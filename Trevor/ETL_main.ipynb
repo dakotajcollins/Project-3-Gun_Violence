{
 "cells": [
  {
   "cell_type": "code",
   "execution_count": 2,
   "id": "66fb9177",
   "metadata": {},
   "outputs": [],
   "source": [
    "import pandas as pd\n",
    "\n",
    "from config import gkey"
   ]
  },
  {
   "cell_type": "markdown",
   "id": "316b5f4b",
   "metadata": {},
   "source": [
    "# Extract"
   ]
  },
  {
   "cell_type": "code",
   "execution_count": 54,
   "id": "218de20f",
   "metadata": {},
   "outputs": [],
   "source": [
    "file1 = \"mass_shooting_2019.csv\"\n",
    "file2 = \"mass_shooting_2020.csv\"\n",
    "file3 = \"mass_shooting_2021.csv\""
   ]
  },
  {
   "cell_type": "code",
   "execution_count": 55,
   "id": "e6c74aec",
   "metadata": {},
   "outputs": [],
   "source": [
    "df_2019 = pd.read_csv(file1)\n",
    "df_2020 = pd.read_csv(file2)\n",
    "df_2021 = pd.read_csv(file3)"
   ]
  },
  {
   "cell_type": "markdown",
   "id": "081d7f68",
   "metadata": {},
   "source": [
    "# Transform"
   ]
  },
  {
   "cell_type": "code",
   "execution_count": 56,
   "id": "cae8dd6f",
   "metadata": {},
   "outputs": [],
   "source": [
    "frames = [df_2019, df_2020, df_2021]\n",
    "\n",
    "result = pd.concat(frames)"
   ]
  },
  {
   "cell_type": "code",
   "execution_count": 57,
   "id": "8166bfbd",
   "metadata": {},
   "outputs": [],
   "source": [
    "result['Address'] = result['Address'].str.replace(\"block of\", '')"
   ]
  },
  {
   "cell_type": "code",
   "execution_count": 58,
   "id": "6e9483f1",
   "metadata": {},
   "outputs": [],
   "source": [
    "result[\"Full_Address\"] = result['Address'] + ', ' + result['City Or County'] + ' ' + result['State']"
   ]
  },
  {
   "cell_type": "code",
   "execution_count": 59,
   "id": "f8c06ef3",
   "metadata": {},
   "outputs": [],
   "source": [
    "result = result.drop(['Operations'], axis=1)\n",
    "\n",
    "\n",
    "result = result.rename(columns={\"Incident ID\": \"incident_id\"\n",
    "                   , \"Incident Date\": \"incident_date\"\n",
    "                   , \"State\": \"state\"\n",
    "                   , \"City Or County\": \"city_county\"\n",
    "                   , \"Address\": \"street_address\"\n",
    "                   , \"# Killed\": \"killed\"\n",
    "                   , \"# Injured\": \"injured\"\n",
    "                  , \"Full_Address\": \"full_address\"})"
   ]
  },
  {
   "cell_type": "code",
   "execution_count": 60,
   "id": "6ce3d5f6",
   "metadata": {},
   "outputs": [
    {
     "data": {
      "text/html": [
       "<div>\n",
       "<style scoped>\n",
       "    .dataframe tbody tr th:only-of-type {\n",
       "        vertical-align: middle;\n",
       "    }\n",
       "\n",
       "    .dataframe tbody tr th {\n",
       "        vertical-align: top;\n",
       "    }\n",
       "\n",
       "    .dataframe thead th {\n",
       "        text-align: right;\n",
       "    }\n",
       "</style>\n",
       "<table border=\"1\" class=\"dataframe\">\n",
       "  <thead>\n",
       "    <tr style=\"text-align: right;\">\n",
       "      <th></th>\n",
       "      <th>incident_id</th>\n",
       "      <th>incident_date</th>\n",
       "      <th>state</th>\n",
       "      <th>city_county</th>\n",
       "      <th>street_address</th>\n",
       "      <th>killed</th>\n",
       "      <th>injured</th>\n",
       "      <th>full_address</th>\n",
       "    </tr>\n",
       "  </thead>\n",
       "  <tbody>\n",
       "    <tr>\n",
       "      <th>0</th>\n",
       "      <td>1582816</td>\n",
       "      <td>December 29, 2019</td>\n",
       "      <td>Illinois</td>\n",
       "      <td>Danville</td>\n",
       "      <td>1803  Westview Ave</td>\n",
       "      <td>0</td>\n",
       "      <td>5</td>\n",
       "      <td>1803  Westview Ave, Danville Illinois</td>\n",
       "    </tr>\n",
       "    <tr>\n",
       "      <th>1</th>\n",
       "      <td>1582197</td>\n",
       "      <td>December 29, 2019</td>\n",
       "      <td>New York</td>\n",
       "      <td>Buffalo</td>\n",
       "      <td>50  Henrietta Ave</td>\n",
       "      <td>1</td>\n",
       "      <td>3</td>\n",
       "      <td>50  Henrietta Ave, Buffalo New York</td>\n",
       "    </tr>\n",
       "    <tr>\n",
       "      <th>2</th>\n",
       "      <td>1583444</td>\n",
       "      <td>December 29, 2019</td>\n",
       "      <td>California</td>\n",
       "      <td>Ceres</td>\n",
       "      <td>800  Allacante Dr</td>\n",
       "      <td>0</td>\n",
       "      <td>5</td>\n",
       "      <td>800  Allacante Dr, Ceres California</td>\n",
       "    </tr>\n",
       "    <tr>\n",
       "      <th>3</th>\n",
       "      <td>1581590</td>\n",
       "      <td>December 27, 2019</td>\n",
       "      <td>California</td>\n",
       "      <td>Modesto</td>\n",
       "      <td>1900  Vernon Ave</td>\n",
       "      <td>1</td>\n",
       "      <td>3</td>\n",
       "      <td>1900  Vernon Ave, Modesto California</td>\n",
       "    </tr>\n",
       "    <tr>\n",
       "      <th>4</th>\n",
       "      <td>1581103</td>\n",
       "      <td>December 27, 2019</td>\n",
       "      <td>Texas</td>\n",
       "      <td>Houston</td>\n",
       "      <td>500  Smart St</td>\n",
       "      <td>2</td>\n",
       "      <td>7</td>\n",
       "      <td>500  Smart St, Houston Texas</td>\n",
       "    </tr>\n",
       "  </tbody>\n",
       "</table>\n",
       "</div>"
      ],
      "text/plain": [
       "   incident_id      incident_date       state city_county      street_address  \\\n",
       "0      1582816  December 29, 2019    Illinois    Danville  1803  Westview Ave   \n",
       "1      1582197  December 29, 2019    New York     Buffalo   50  Henrietta Ave   \n",
       "2      1583444  December 29, 2019  California       Ceres   800  Allacante Dr   \n",
       "3      1581590  December 27, 2019  California     Modesto    1900  Vernon Ave   \n",
       "4      1581103  December 27, 2019       Texas     Houston       500  Smart St   \n",
       "\n",
       "   killed  injured                           full_address  \n",
       "0       0        5  1803  Westview Ave, Danville Illinois  \n",
       "1       1        3    50  Henrietta Ave, Buffalo New York  \n",
       "2       0        5    800  Allacante Dr, Ceres California  \n",
       "3       1        3   1900  Vernon Ave, Modesto California  \n",
       "4       2        7           500  Smart St, Houston Texas  "
      ]
     },
     "execution_count": 60,
     "metadata": {},
     "output_type": "execute_result"
    }
   ],
   "source": [
    "result.head()"
   ]
  },
  {
   "cell_type": "code",
   "execution_count": 61,
   "id": "ae33deed",
   "metadata": {},
   "outputs": [],
   "source": [
    "#result.to_csv(\"stage1_transform.csv\")"
   ]
  },
  {
   "cell_type": "markdown",
   "id": "27af60bb",
   "metadata": {},
   "source": [
    "# Geopy"
   ]
  },
  {
   "cell_type": "code",
   "execution_count": 62,
   "id": "3d3ed5aa",
   "metadata": {},
   "outputs": [],
   "source": [
    "from geopy.extra.rate_limiter import RateLimiter\n",
    "from geopy.geocoders import Nominatim\n",
    "\n",
    "locator = Nominatim(user_agent=\"myGeocoder\")\n",
    "\n",
    "geocode = RateLimiter(locator.geocode, min_delay_seconds=1)\n",
    "geocode = locator.geocode"
   ]
  },
  {
   "cell_type": "code",
   "execution_count": 63,
   "id": "b1ca9ca9",
   "metadata": {},
   "outputs": [],
   "source": [
    "def find_location(row):\n",
    "    \n",
    "    place = row['full_address']\n",
    "    \n",
    "    location = locator.geocode(place)\n",
    "    \n",
    "    if location != None:\n",
    "        return location.latitude, location.longitude\n",
    "    else:\n",
    "        return \"Not Found\", \"Not Found\""
   ]
  },
  {
   "cell_type": "code",
   "execution_count": 64,
   "id": "22cce2c4",
   "metadata": {},
   "outputs": [],
   "source": [
    "result[['lat', 'long']] = result.apply(find_location, axis=\"columns\", result_type=\"expand\")"
   ]
  },
  {
   "cell_type": "code",
   "execution_count": 65,
   "id": "204972bc",
   "metadata": {},
   "outputs": [
    {
     "data": {
      "text/html": [
       "<div>\n",
       "<style scoped>\n",
       "    .dataframe tbody tr th:only-of-type {\n",
       "        vertical-align: middle;\n",
       "    }\n",
       "\n",
       "    .dataframe tbody tr th {\n",
       "        vertical-align: top;\n",
       "    }\n",
       "\n",
       "    .dataframe thead th {\n",
       "        text-align: right;\n",
       "    }\n",
       "</style>\n",
       "<table border=\"1\" class=\"dataframe\">\n",
       "  <thead>\n",
       "    <tr style=\"text-align: right;\">\n",
       "      <th></th>\n",
       "      <th>incident_id</th>\n",
       "      <th>incident_date</th>\n",
       "      <th>state</th>\n",
       "      <th>city_county</th>\n",
       "      <th>street_address</th>\n",
       "      <th>killed</th>\n",
       "      <th>injured</th>\n",
       "      <th>full_address</th>\n",
       "      <th>lat</th>\n",
       "      <th>long</th>\n",
       "    </tr>\n",
       "  </thead>\n",
       "  <tbody>\n",
       "    <tr>\n",
       "      <th>0</th>\n",
       "      <td>1582816</td>\n",
       "      <td>December 29, 2019</td>\n",
       "      <td>Illinois</td>\n",
       "      <td>Danville</td>\n",
       "      <td>1803  Westview Ave</td>\n",
       "      <td>0</td>\n",
       "      <td>5</td>\n",
       "      <td>1803  Westview Ave, Danville Illinois</td>\n",
       "      <td>40.15553</td>\n",
       "      <td>-87.614715</td>\n",
       "    </tr>\n",
       "    <tr>\n",
       "      <th>1</th>\n",
       "      <td>1582197</td>\n",
       "      <td>December 29, 2019</td>\n",
       "      <td>New York</td>\n",
       "      <td>Buffalo</td>\n",
       "      <td>50  Henrietta Ave</td>\n",
       "      <td>1</td>\n",
       "      <td>3</td>\n",
       "      <td>50  Henrietta Ave, Buffalo New York</td>\n",
       "      <td>42.956321</td>\n",
       "      <td>-78.899348</td>\n",
       "    </tr>\n",
       "    <tr>\n",
       "      <th>2</th>\n",
       "      <td>1583444</td>\n",
       "      <td>December 29, 2019</td>\n",
       "      <td>California</td>\n",
       "      <td>Ceres</td>\n",
       "      <td>800  Allacante Dr</td>\n",
       "      <td>0</td>\n",
       "      <td>5</td>\n",
       "      <td>800  Allacante Dr, Ceres California</td>\n",
       "      <td>37.590897</td>\n",
       "      <td>-120.981631</td>\n",
       "    </tr>\n",
       "    <tr>\n",
       "      <th>3</th>\n",
       "      <td>1581590</td>\n",
       "      <td>December 27, 2019</td>\n",
       "      <td>California</td>\n",
       "      <td>Modesto</td>\n",
       "      <td>1900  Vernon Ave</td>\n",
       "      <td>1</td>\n",
       "      <td>3</td>\n",
       "      <td>1900  Vernon Ave, Modesto California</td>\n",
       "      <td>37.614475</td>\n",
       "      <td>-121.027922</td>\n",
       "    </tr>\n",
       "    <tr>\n",
       "      <th>4</th>\n",
       "      <td>1581103</td>\n",
       "      <td>December 27, 2019</td>\n",
       "      <td>Texas</td>\n",
       "      <td>Houston</td>\n",
       "      <td>500  Smart St</td>\n",
       "      <td>2</td>\n",
       "      <td>7</td>\n",
       "      <td>500  Smart St, Houston Texas</td>\n",
       "      <td>29.959913</td>\n",
       "      <td>-95.562268</td>\n",
       "    </tr>\n",
       "  </tbody>\n",
       "</table>\n",
       "</div>"
      ],
      "text/plain": [
       "   incident_id      incident_date       state city_county      street_address  \\\n",
       "0      1582816  December 29, 2019    Illinois    Danville  1803  Westview Ave   \n",
       "1      1582197  December 29, 2019    New York     Buffalo   50  Henrietta Ave   \n",
       "2      1583444  December 29, 2019  California       Ceres   800  Allacante Dr   \n",
       "3      1581590  December 27, 2019  California     Modesto    1900  Vernon Ave   \n",
       "4      1581103  December 27, 2019       Texas     Houston       500  Smart St   \n",
       "\n",
       "   killed  injured                           full_address        lat  \\\n",
       "0       0        5  1803  Westview Ave, Danville Illinois   40.15553   \n",
       "1       1        3    50  Henrietta Ave, Buffalo New York  42.956321   \n",
       "2       0        5    800  Allacante Dr, Ceres California  37.590897   \n",
       "3       1        3   1900  Vernon Ave, Modesto California  37.614475   \n",
       "4       2        7           500  Smart St, Houston Texas  29.959913   \n",
       "\n",
       "         long  \n",
       "0  -87.614715  \n",
       "1  -78.899348  \n",
       "2 -120.981631  \n",
       "3 -121.027922  \n",
       "4  -95.562268  "
      ]
     },
     "execution_count": 65,
     "metadata": {},
     "output_type": "execute_result"
    }
   ],
   "source": [
    "result.head()"
   ]
  },
  {
   "cell_type": "code",
   "execution_count": 66,
   "id": "874e5d06",
   "metadata": {},
   "outputs": [],
   "source": [
    "#result.to_csv(\"stage2_transform_geopy.csv\")"
   ]
  },
  {
   "cell_type": "markdown",
   "id": "79dfba28",
   "metadata": {},
   "source": [
    "# Google Geolocator"
   ]
  },
  {
   "cell_type": "code",
   "execution_count": 66,
   "id": "d44957c3",
   "metadata": {},
   "outputs": [],
   "source": [
    "just_nulls_df = pd.read_csv(\"stage2_transform_geopy.csv\")"
   ]
  },
  {
   "cell_type": "code",
   "execution_count": 67,
   "id": "6e4e3fcd",
   "metadata": {},
   "outputs": [],
   "source": [
    "just_nulls_df = just_nulls_df.loc[just_nulls_df[\"lat\"] == \"Not Found\",:]"
   ]
  },
  {
   "cell_type": "code",
   "execution_count": 68,
   "id": "7ae35e3d",
   "metadata": {
    "scrolled": true
   },
   "outputs": [],
   "source": [
    "just_nulls_df = just_nulls_df.reset_index()\n",
    "just_nulls_df = just_nulls_df.drop(['Unnamed: 0'], axis=1)"
   ]
  },
  {
   "cell_type": "code",
   "execution_count": 69,
   "id": "ce213ce2",
   "metadata": {},
   "outputs": [],
   "source": [
    "def find_geocode(row):\n",
    "    \n",
    "    place = row['full_address']\n",
    "    place = place.replace(\" \", \"+\")\n",
    "    \n",
    "    #gkey = \"\"\n",
    "\n",
    "    # Build the endpoint URL\n",
    "    target_url = f\"https://maps.googleapis.com/maps/api/geocode/json?address={place}&key={gkey}\"\n",
    "    \n",
    "\n",
    "    try:\n",
    "        geo_data = requests.get(target_url).json()\n",
    "        lat = geo_data[\"results\"][0][\"geometry\"][\"location\"][\"lat\"]\n",
    "        lng = geo_data[\"results\"][0][\"geometry\"][\"location\"][\"lng\"]\n",
    "        \n",
    "        if lat != None:\n",
    "            return lat, lng\n",
    "        else:\n",
    "            return \"Not Found\", \"Not Found\"\n",
    "    \n",
    "    except:\n",
    "        return \"Not Found\", \"Not Found\""
   ]
  },
  {
   "cell_type": "code",
   "execution_count": 70,
   "id": "181042d9",
   "metadata": {},
   "outputs": [],
   "source": [
    "just_nulls_df[['lat', 'long']] = just_nulls_df.apply(find_geocode, axis=\"columns\", result_type=\"expand\")"
   ]
  },
  {
   "cell_type": "code",
   "execution_count": 71,
   "id": "6bdda418",
   "metadata": {},
   "outputs": [
    {
     "data": {
      "text/html": [
       "<div>\n",
       "<style scoped>\n",
       "    .dataframe tbody tr th:only-of-type {\n",
       "        vertical-align: middle;\n",
       "    }\n",
       "\n",
       "    .dataframe tbody tr th {\n",
       "        vertical-align: top;\n",
       "    }\n",
       "\n",
       "    .dataframe thead th {\n",
       "        text-align: right;\n",
       "    }\n",
       "</style>\n",
       "<table border=\"1\" class=\"dataframe\">\n",
       "  <thead>\n",
       "    <tr style=\"text-align: right;\">\n",
       "      <th></th>\n",
       "      <th>index</th>\n",
       "      <th>incident_id</th>\n",
       "      <th>incident_date</th>\n",
       "      <th>state</th>\n",
       "      <th>city_county</th>\n",
       "      <th>street_address</th>\n",
       "      <th>killed</th>\n",
       "      <th>injured</th>\n",
       "      <th>full_address</th>\n",
       "      <th>lat</th>\n",
       "      <th>long</th>\n",
       "    </tr>\n",
       "  </thead>\n",
       "  <tbody>\n",
       "    <tr>\n",
       "      <th>0</th>\n",
       "      <td>5</td>\n",
       "      <td>1581476</td>\n",
       "      <td>December 27, 2019</td>\n",
       "      <td>Georgia</td>\n",
       "      <td>Kennesaw</td>\n",
       "      <td>1575 Ridenour Pkwy NW</td>\n",
       "      <td>0</td>\n",
       "      <td>4</td>\n",
       "      <td>1575 Ridenour Pkwy NW, Kennesaw Georgia</td>\n",
       "      <td>Not Found</td>\n",
       "      <td>Not Found</td>\n",
       "    </tr>\n",
       "    <tr>\n",
       "      <th>1</th>\n",
       "      <td>14</td>\n",
       "      <td>1577688</td>\n",
       "      <td>December 22, 2019</td>\n",
       "      <td>Minnesota</td>\n",
       "      <td>Minneapolis (Spring Lake Park)</td>\n",
       "      <td>8407 Plaza Blvd NE</td>\n",
       "      <td>1</td>\n",
       "      <td>7</td>\n",
       "      <td>8407 Plaza Blvd NE, Minneapolis (Spring Lake P...</td>\n",
       "      <td>Not Found</td>\n",
       "      <td>Not Found</td>\n",
       "    </tr>\n",
       "    <tr>\n",
       "      <th>2</th>\n",
       "      <td>32</td>\n",
       "      <td>1562685</td>\n",
       "      <td>December 1, 2019</td>\n",
       "      <td>Michigan</td>\n",
       "      <td>Kalamazoo</td>\n",
       "      <td>6300  Proctor St</td>\n",
       "      <td>1</td>\n",
       "      <td>3</td>\n",
       "      <td>6300  Proctor St, Kalamazoo Michigan</td>\n",
       "      <td>Not Found</td>\n",
       "      <td>Not Found</td>\n",
       "    </tr>\n",
       "    <tr>\n",
       "      <th>3</th>\n",
       "      <td>34</td>\n",
       "      <td>1561398</td>\n",
       "      <td>November 30, 2019</td>\n",
       "      <td>Arkansas</td>\n",
       "      <td>Hensley</td>\n",
       "      <td>6500  E Sardis Rd</td>\n",
       "      <td>0</td>\n",
       "      <td>5</td>\n",
       "      <td>6500  E Sardis Rd, Hensley Arkansas</td>\n",
       "      <td>Not Found</td>\n",
       "      <td>Not Found</td>\n",
       "    </tr>\n",
       "    <tr>\n",
       "      <th>4</th>\n",
       "      <td>36</td>\n",
       "      <td>1559257</td>\n",
       "      <td>November 27, 2019</td>\n",
       "      <td>New York</td>\n",
       "      <td>Bronx</td>\n",
       "      <td>E 153rd St and Courtlandt Ave</td>\n",
       "      <td>0</td>\n",
       "      <td>5</td>\n",
       "      <td>E 153rd St and Courtlandt Ave, Bronx New York</td>\n",
       "      <td>Not Found</td>\n",
       "      <td>Not Found</td>\n",
       "    </tr>\n",
       "  </tbody>\n",
       "</table>\n",
       "</div>"
      ],
      "text/plain": [
       "   index  incident_id      incident_date      state  \\\n",
       "0      5      1581476  December 27, 2019    Georgia   \n",
       "1     14      1577688  December 22, 2019  Minnesota   \n",
       "2     32      1562685   December 1, 2019   Michigan   \n",
       "3     34      1561398  November 30, 2019   Arkansas   \n",
       "4     36      1559257  November 27, 2019   New York   \n",
       "\n",
       "                      city_county                 street_address  killed  \\\n",
       "0                        Kennesaw          1575 Ridenour Pkwy NW       0   \n",
       "1  Minneapolis (Spring Lake Park)             8407 Plaza Blvd NE       1   \n",
       "2                       Kalamazoo               6300  Proctor St       1   \n",
       "3                         Hensley              6500  E Sardis Rd       0   \n",
       "4                           Bronx  E 153rd St and Courtlandt Ave       0   \n",
       "\n",
       "   injured                                       full_address        lat  \\\n",
       "0        4            1575 Ridenour Pkwy NW, Kennesaw Georgia  Not Found   \n",
       "1        7  8407 Plaza Blvd NE, Minneapolis (Spring Lake P...  Not Found   \n",
       "2        3               6300  Proctor St, Kalamazoo Michigan  Not Found   \n",
       "3        5                6500  E Sardis Rd, Hensley Arkansas  Not Found   \n",
       "4        5      E 153rd St and Courtlandt Ave, Bronx New York  Not Found   \n",
       "\n",
       "        long  \n",
       "0  Not Found  \n",
       "1  Not Found  \n",
       "2  Not Found  \n",
       "3  Not Found  \n",
       "4  Not Found  "
      ]
     },
     "execution_count": 71,
     "metadata": {},
     "output_type": "execute_result"
    }
   ],
   "source": [
    "just_nulls_df.head()"
   ]
  },
  {
   "cell_type": "code",
   "execution_count": 72,
   "id": "da154166",
   "metadata": {},
   "outputs": [],
   "source": [
    "new_df = just_nulls_df.loc[just_nulls_df[\"lat\"] != \"Not Found\",:]"
   ]
  },
  {
   "cell_type": "code",
   "execution_count": null,
   "id": "3e6bc2b4",
   "metadata": {},
   "outputs": [],
   "source": [
    "new_df = new_df.drop(['index'], axis=1)"
   ]
  },
  {
   "cell_type": "code",
   "execution_count": null,
   "id": "10a70e4f",
   "metadata": {},
   "outputs": [],
   "source": [
    "#new_df.to_csv(\"stage3_transform.csv\")"
   ]
  },
  {
   "cell_type": "markdown",
   "id": "4581f6e8",
   "metadata": {},
   "source": [
    "# Merge the dataframes"
   ]
  },
  {
   "cell_type": "code",
   "execution_count": 41,
   "id": "235b4fd1",
   "metadata": {},
   "outputs": [],
   "source": [
    "first_file = pd.read_csv(\"stage2_transform_geopy.csv\")\n",
    "second_File = pd.read_csv(\"stage3_transform.csv\")"
   ]
  },
  {
   "cell_type": "code",
   "execution_count": 45,
   "id": "d0de01c8",
   "metadata": {},
   "outputs": [],
   "source": [
    "cleaned_df = first_file.loc[first_file[\"lat\"] != \"Not Found\"]"
   ]
  },
  {
   "cell_type": "code",
   "execution_count": 46,
   "id": "f22bde97",
   "metadata": {},
   "outputs": [],
   "source": [
    "cleaned_df = cleaned_df.drop(['Unnamed: 0'], axis=1)"
   ]
  },
  {
   "cell_type": "code",
   "execution_count": 51,
   "id": "ef2c9998",
   "metadata": {},
   "outputs": [],
   "source": [
    "second_File = second_File.drop(['Unnamed: 0', 'index'], axis=1)"
   ]
  },
  {
   "cell_type": "code",
   "execution_count": 52,
   "id": "4bed3989",
   "metadata": {},
   "outputs": [],
   "source": [
    "frames2 = [cleaned_df, second_File]\n",
    "\n",
    "complete_df = pd.concat(frames2)"
   ]
  },
  {
   "cell_type": "code",
   "execution_count": 54,
   "id": "b713e822",
   "metadata": {},
   "outputs": [],
   "source": [
    "complete_df = complete_df.dropna(how='any')"
   ]
  },
  {
   "cell_type": "code",
   "execution_count": 55,
   "id": "cd1ef450",
   "metadata": {},
   "outputs": [
    {
     "data": {
      "text/html": [
       "<div>\n",
       "<style scoped>\n",
       "    .dataframe tbody tr th:only-of-type {\n",
       "        vertical-align: middle;\n",
       "    }\n",
       "\n",
       "    .dataframe tbody tr th {\n",
       "        vertical-align: top;\n",
       "    }\n",
       "\n",
       "    .dataframe thead th {\n",
       "        text-align: right;\n",
       "    }\n",
       "</style>\n",
       "<table border=\"1\" class=\"dataframe\">\n",
       "  <thead>\n",
       "    <tr style=\"text-align: right;\">\n",
       "      <th></th>\n",
       "      <th>incident_id</th>\n",
       "      <th>incident_date</th>\n",
       "      <th>state</th>\n",
       "      <th>city_county</th>\n",
       "      <th>street_address</th>\n",
       "      <th>killed</th>\n",
       "      <th>injured</th>\n",
       "      <th>full_address</th>\n",
       "      <th>lat</th>\n",
       "      <th>long</th>\n",
       "    </tr>\n",
       "  </thead>\n",
       "  <tbody>\n",
       "    <tr>\n",
       "      <th>0</th>\n",
       "      <td>1582816</td>\n",
       "      <td>December 29, 2019</td>\n",
       "      <td>Illinois</td>\n",
       "      <td>Danville</td>\n",
       "      <td>1803  Westview Ave</td>\n",
       "      <td>0</td>\n",
       "      <td>5</td>\n",
       "      <td>1803  Westview Ave, Danville Illinois</td>\n",
       "      <td>40.1555301092308</td>\n",
       "      <td>-87.61471508589744</td>\n",
       "    </tr>\n",
       "    <tr>\n",
       "      <th>1</th>\n",
       "      <td>1582197</td>\n",
       "      <td>December 29, 2019</td>\n",
       "      <td>New York</td>\n",
       "      <td>Buffalo</td>\n",
       "      <td>50  Henrietta Ave</td>\n",
       "      <td>1</td>\n",
       "      <td>3</td>\n",
       "      <td>50  Henrietta Ave, Buffalo New York</td>\n",
       "      <td>42.9563206122449</td>\n",
       "      <td>-78.89934789795919</td>\n",
       "    </tr>\n",
       "    <tr>\n",
       "      <th>2</th>\n",
       "      <td>1583444</td>\n",
       "      <td>December 29, 2019</td>\n",
       "      <td>California</td>\n",
       "      <td>Ceres</td>\n",
       "      <td>800  Allacante Dr</td>\n",
       "      <td>0</td>\n",
       "      <td>5</td>\n",
       "      <td>800  Allacante Dr, Ceres California</td>\n",
       "      <td>37.590897</td>\n",
       "      <td>-120.981631</td>\n",
       "    </tr>\n",
       "    <tr>\n",
       "      <th>3</th>\n",
       "      <td>1581590</td>\n",
       "      <td>December 27, 2019</td>\n",
       "      <td>California</td>\n",
       "      <td>Modesto</td>\n",
       "      <td>1900  Vernon Ave</td>\n",
       "      <td>1</td>\n",
       "      <td>3</td>\n",
       "      <td>1900  Vernon Ave, Modesto California</td>\n",
       "      <td>37.614474926174495</td>\n",
       "      <td>-121.02792171140939</td>\n",
       "    </tr>\n",
       "    <tr>\n",
       "      <th>4</th>\n",
       "      <td>1581103</td>\n",
       "      <td>December 27, 2019</td>\n",
       "      <td>Texas</td>\n",
       "      <td>Houston</td>\n",
       "      <td>500  Smart St</td>\n",
       "      <td>2</td>\n",
       "      <td>7</td>\n",
       "      <td>500  Smart St, Houston Texas</td>\n",
       "      <td>29.95991275</td>\n",
       "      <td>-95.56226793134292</td>\n",
       "    </tr>\n",
       "    <tr>\n",
       "      <th>...</th>\n",
       "      <td>...</td>\n",
       "      <td>...</td>\n",
       "      <td>...</td>\n",
       "      <td>...</td>\n",
       "      <td>...</td>\n",
       "      <td>...</td>\n",
       "      <td>...</td>\n",
       "      <td>...</td>\n",
       "      <td>...</td>\n",
       "      <td>...</td>\n",
       "    </tr>\n",
       "    <tr>\n",
       "      <th>340</th>\n",
       "      <td>1897878</td>\n",
       "      <td>January 9, 2021</td>\n",
       "      <td>Texas</td>\n",
       "      <td>Houston</td>\n",
       "      <td>5828 Martin Luther King Blvd</td>\n",
       "      <td>1</td>\n",
       "      <td>3</td>\n",
       "      <td>5828 Martin Luther King Blvd, Houston Texas</td>\n",
       "      <td>29.696339</td>\n",
       "      <td>-95.337804</td>\n",
       "    </tr>\n",
       "    <tr>\n",
       "      <th>341</th>\n",
       "      <td>1896252</td>\n",
       "      <td>January 6, 2021</td>\n",
       "      <td>Virginia</td>\n",
       "      <td>Manassas</td>\n",
       "      <td>10010 Ellis Rd</td>\n",
       "      <td>3</td>\n",
       "      <td>3</td>\n",
       "      <td>10010 Ellis Rd, Manassas Virginia</td>\n",
       "      <td>38.737435</td>\n",
       "      <td>-77.428646</td>\n",
       "    </tr>\n",
       "    <tr>\n",
       "      <th>342</th>\n",
       "      <td>1894979</td>\n",
       "      <td>January 4, 2021</td>\n",
       "      <td>Florida</td>\n",
       "      <td>Tampa</td>\n",
       "      <td>1225 S 78th St</td>\n",
       "      <td>0</td>\n",
       "      <td>5</td>\n",
       "      <td>1225 S 78th St, Tampa Florida</td>\n",
       "      <td>27.9368</td>\n",
       "      <td>-82.369038</td>\n",
       "    </tr>\n",
       "    <tr>\n",
       "      <th>343</th>\n",
       "      <td>1894941</td>\n",
       "      <td>January 4, 2021</td>\n",
       "      <td>Florida</td>\n",
       "      <td>Fort Lauderdale (Lauderhill)</td>\n",
       "      <td>1828 NW 38th Ave</td>\n",
       "      <td>0</td>\n",
       "      <td>7</td>\n",
       "      <td>1828 NW 38th Ave, Fort Lauderdale (Lauderhill)...</td>\n",
       "      <td>26.148812</td>\n",
       "      <td>-80.199546</td>\n",
       "    </tr>\n",
       "    <tr>\n",
       "      <th>344</th>\n",
       "      <td>1893953</td>\n",
       "      <td>January 3, 2021</td>\n",
       "      <td>Oregon</td>\n",
       "      <td>Gresham</td>\n",
       "      <td>NE 181st Ave and NE San Rafael St</td>\n",
       "      <td>0</td>\n",
       "      <td>4</td>\n",
       "      <td>NE 181st Ave and NE San Rafael St, Gresham Oregon</td>\n",
       "      <td>45.537104</td>\n",
       "      <td>-122.47726</td>\n",
       "    </tr>\n",
       "  </tbody>\n",
       "</table>\n",
       "<p>1547 rows × 10 columns</p>\n",
       "</div>"
      ],
      "text/plain": [
       "     incident_id      incident_date       state                   city_county  \\\n",
       "0        1582816  December 29, 2019    Illinois                      Danville   \n",
       "1        1582197  December 29, 2019    New York                       Buffalo   \n",
       "2        1583444  December 29, 2019  California                         Ceres   \n",
       "3        1581590  December 27, 2019  California                       Modesto   \n",
       "4        1581103  December 27, 2019       Texas                       Houston   \n",
       "..           ...                ...         ...                           ...   \n",
       "340      1897878    January 9, 2021       Texas                       Houston   \n",
       "341      1896252    January 6, 2021    Virginia                      Manassas   \n",
       "342      1894979    January 4, 2021     Florida                         Tampa   \n",
       "343      1894941    January 4, 2021     Florida  Fort Lauderdale (Lauderhill)   \n",
       "344      1893953    January 3, 2021      Oregon                       Gresham   \n",
       "\n",
       "                        street_address  killed  injured  \\\n",
       "0                   1803  Westview Ave       0        5   \n",
       "1                    50  Henrietta Ave       1        3   \n",
       "2                    800  Allacante Dr       0        5   \n",
       "3                     1900  Vernon Ave       1        3   \n",
       "4                        500  Smart St       2        7   \n",
       "..                                 ...     ...      ...   \n",
       "340       5828 Martin Luther King Blvd       1        3   \n",
       "341                     10010 Ellis Rd       3        3   \n",
       "342                     1225 S 78th St       0        5   \n",
       "343                   1828 NW 38th Ave       0        7   \n",
       "344  NE 181st Ave and NE San Rafael St       0        4   \n",
       "\n",
       "                                          full_address                 lat  \\\n",
       "0                1803  Westview Ave, Danville Illinois    40.1555301092308   \n",
       "1                  50  Henrietta Ave, Buffalo New York    42.9563206122449   \n",
       "2                  800  Allacante Dr, Ceres California           37.590897   \n",
       "3                 1900  Vernon Ave, Modesto California  37.614474926174495   \n",
       "4                         500  Smart St, Houston Texas         29.95991275   \n",
       "..                                                 ...                 ...   \n",
       "340        5828 Martin Luther King Blvd, Houston Texas           29.696339   \n",
       "341                  10010 Ellis Rd, Manassas Virginia           38.737435   \n",
       "342                      1225 S 78th St, Tampa Florida             27.9368   \n",
       "343  1828 NW 38th Ave, Fort Lauderdale (Lauderhill)...           26.148812   \n",
       "344  NE 181st Ave and NE San Rafael St, Gresham Oregon           45.537104   \n",
       "\n",
       "                    long  \n",
       "0     -87.61471508589744  \n",
       "1     -78.89934789795919  \n",
       "2            -120.981631  \n",
       "3    -121.02792171140939  \n",
       "4     -95.56226793134292  \n",
       "..                   ...  \n",
       "340           -95.337804  \n",
       "341           -77.428646  \n",
       "342           -82.369038  \n",
       "343           -80.199546  \n",
       "344           -122.47726  \n",
       "\n",
       "[1547 rows x 10 columns]"
      ]
     },
     "execution_count": 55,
     "metadata": {},
     "output_type": "execute_result"
    }
   ],
   "source": [
    "complete_df"
   ]
  },
  {
   "cell_type": "code",
   "execution_count": null,
   "id": "4e26fb15",
   "metadata": {},
   "outputs": [],
   "source": [
    "#complete_df.to_csv(\"completed_data.csv\")"
   ]
  },
  {
   "cell_type": "markdown",
   "id": "fefefe78",
   "metadata": {},
   "source": [
    "# Load"
   ]
  },
  {
   "cell_type": "code",
   "execution_count": 56,
   "id": "df9c168d",
   "metadata": {},
   "outputs": [],
   "source": [
    "from sqlalchemy import create_engine\n",
    "\n",
    "rds_connection_string = \"postgres:postgres@localhost:5432/mass_shootings_project3\"\n",
    "engine = create_engine(f'postgresql://{rds_connection_string}')"
   ]
  },
  {
   "cell_type": "code",
   "execution_count": null,
   "id": "0527749e",
   "metadata": {},
   "outputs": [],
   "source": [
    "create_table = engine.execute('CREATE TABLE \"Mass_Shootings\" ( \"incident_id\" varchar   NOT NULL, \"incident_date\" varchar   NOT NULL,\"state\" varchar   NOT NULL,\"city_county\" varchar   NOT NULL,\"street_address\" varchar   NOT NULL,\"killed\" int   NOT NULL,\"injured\" int   NOT NULL,\"full_address\" varchar   NOT NULL,\"lat\" float   NOT NULL,\"long\" float   NOT NULL);')"
   ]
  },
  {
   "cell_type": "code",
   "execution_count": 58,
   "id": "6df8c3cb",
   "metadata": {},
   "outputs": [
    {
     "name": "stderr",
     "output_type": "stream",
     "text": [
      "<ipython-input-58-d72bc75a6b62>:1: SADeprecationWarning: The Engine.table_names() method is deprecated and will be removed in a future release.  Please refer to Inspector.get_table_names(). (deprecated since: 1.4)\n",
      "  engine.table_names()\n"
     ]
    },
    {
     "data": {
      "text/plain": [
       "['Mass_Shootings']"
      ]
     },
     "execution_count": 58,
     "metadata": {},
     "output_type": "execute_result"
    }
   ],
   "source": [
    "engine.table_names()"
   ]
  },
  {
   "cell_type": "code",
   "execution_count": 62,
   "id": "00c70505",
   "metadata": {},
   "outputs": [],
   "source": [
    "file_to_database = pd.read_csv(\"completed_data.csv\")"
   ]
  },
  {
   "cell_type": "code",
   "execution_count": 63,
   "id": "2019d9c6",
   "metadata": {},
   "outputs": [],
   "source": [
    "file_to_database = file_to_database.drop(['Unnamed: 0', 'index'], axis=1)"
   ]
  },
  {
   "cell_type": "code",
   "execution_count": 65,
   "id": "00c8b90f",
   "metadata": {},
   "outputs": [],
   "source": [
    "file_to_database.to_sql(name='Mass_Shootings', con=engine, if_exists='append', index=False)"
   ]
  }
 ],
 "metadata": {
  "kernelspec": {
   "display_name": "Python 3",
   "language": "python",
   "name": "python3"
  },
  "language_info": {
   "codemirror_mode": {
    "name": "ipython",
    "version": 3
   },
   "file_extension": ".py",
   "mimetype": "text/x-python",
   "name": "python",
   "nbconvert_exporter": "python",
   "pygments_lexer": "ipython3",
   "version": "3.8.8"
  }
 },
 "nbformat": 4,
 "nbformat_minor": 5
}
